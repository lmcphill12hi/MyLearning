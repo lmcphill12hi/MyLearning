{
 "cells": [
  {
   "cell_type": "code",
   "execution_count": 24,
   "id": "c825664b",
   "metadata": {},
   "outputs": [
    {
     "name": "stdout",
     "output_type": "stream",
     "text": [
      "4\n",
      "None\n"
     ]
    }
   ],
   "source": [
    "# create a polygon class\n",
    "import turtle\n",
    "\n",
    "import turtle\n",
    "\n",
    "class Polygon:\n",
    "    def __init__(self, sides, name, size=100, color=\"black\", line_thickness=3):\n",
    "        self.sides = sides\n",
    "        self.name = name\n",
    "        self.size = size\n",
    "        self.color = color\n",
    "        self.line_thickness = line_thickness\n",
    "        self.interior_angles = (self.sides-2)*180\n",
    "        self.angle = self.interior_angles/self.sides\n",
    "\n",
    "    def draw(self):\n",
    "        turtle.color(self.color)\n",
    "        turtle.pensize(self.line_thickness)\n",
    "        for i in range(self.sides):\n",
    "            turtle.forward(self.size)\n",
    "            turtle.right(180-self.angle)\n",
    "\n",
    "# subclass of Polygon called Square\n",
    "# subclassing allows us to reuse code\n",
    "class Square(Polygon):\n",
    "    def __init__(self, size = 100, color = 'black', line_thickness = 3):\n",
    "    # take from parent class (the super class)\n",
    "        super().__init__(4, 'Square', size, color, line_thickness)\n",
    "    # over-ride draw method from Polygon class\n",
    "    def draw(self):\n",
    "        turtle.begin_fill()\n",
    "        super().draw()\n",
    "        turtle.end_fill()\n",
    "\n",
    "\n",
    "square = Square(color = 'blue', size = 200)\n",
    "print(square.sides)\n",
    "print(square.draw())\n",
    "turtle.done()"
   ]
  },
  {
   "cell_type": "code",
   "execution_count": 34,
   "id": "f1dcb7d7",
   "metadata": {},
   "outputs": [
    {
     "name": "stdout",
     "output_type": "stream",
     "text": [
      "5\n",
      "7\n",
      "2\n",
      "4\n"
     ]
    }
   ],
   "source": [
    "import matplotlib.pyplot as plt\n",
    "\n",
    "class Point: \n",
    "    def __init__(self, x,y):\n",
    "        self.x = x\n",
    "        self.y = y\n",
    "        \n",
    "    def __add__(self, other):\n",
    "        if isinstance(other,Point):\n",
    "        # assume other is another point\n",
    "            x = self.x + other.x\n",
    "            y = self.y + other.y\n",
    "            return Point(x,y)\n",
    "        else: \n",
    "            x = self.x + other\n",
    "            y = self.y + other\n",
    "            return Point(x,y)\n",
    "        \n",
    "    def plot(self):\n",
    "        plt.scatter(self.x, self.y)\n",
    "\n",
    "a = Point(0,2)\n",
    "b = Point(2,2)\n",
    "c = a+b\n",
    "e = Point(0,2)\n",
    "d = e+5\n",
    "print(d.x)\n",
    "print(d.y)\n",
    "print(c.x)\n",
    "print(c.y)"
   ]
  },
  {
   "cell_type": "markdown",
   "id": "24ca41da",
   "metadata": {},
   "source": [
    "If we want to use '+' to add tow point togetehr, we can use the Point class to overload the addition operator to know how to add point a + b"
   ]
  },
  {
   "cell_type": "code",
   "execution_count": null,
   "id": "29132892",
   "metadata": {},
   "outputs": [],
   "source": []
  }
 ],
 "metadata": {
  "kernelspec": {
   "display_name": "Python 3",
   "language": "python",
   "name": "python3"
  },
  "language_info": {
   "codemirror_mode": {
    "name": "ipython",
    "version": 3
   },
   "file_extension": ".py",
   "mimetype": "text/x-python",
   "name": "python",
   "nbconvert_exporter": "python",
   "pygments_lexer": "ipython3",
   "version": "3.8.8"
  }
 },
 "nbformat": 4,
 "nbformat_minor": 5
}
